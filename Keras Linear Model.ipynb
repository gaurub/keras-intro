{
 "cells": [
  {
   "cell_type": "markdown",
   "metadata": {
    "slideshow": {
     "slide_type": "slide"
    }
   },
   "source": [
    "### A brief introduction to Keras \n",
    "\n",
    "We're going to learn a little bit about Keras by creating a model to approximate a linear function. I will walk you through all the steps and my random additions; luckily, in this case, the back prop stuff is all handled by Keras & Tensorflow, so we don't have to worry ourselves with any of that.\n",
    "\n",
    "Keras is a wrapper around Tensorflow, Theano and CNTK; at the moment, there is no Caffe backend. It exposes a very pretty API (compared to TF's crazily complicated API) and makes life a lot easier. It also fits in better with the API signature of scikit-learn, which is a popular framework used for Machine Learning tasks."
   ]
  },
  {
   "cell_type": "code",
   "execution_count": 1,
   "metadata": {
    "slideshow": {
     "slide_type": "slide"
    }
   },
   "outputs": [
    {
     "name": "stderr",
     "output_type": "stream",
     "text": [
      "/anaconda3/envs/pythontf/lib/python3.6/importlib/_bootstrap.py:219: RuntimeWarning: compiletime version 3.5 of module 'tensorflow.python.framework.fast_tensor_util' does not match runtime version 3.6\n",
      "  return f(*args, **kwds)\n",
      "Using TensorFlow backend.\n"
     ]
    }
   ],
   "source": [
    "import tensorflow as tf\n",
    "from keras.layers import Dense\n",
    "from keras.models import Sequential\n",
    "import numpy as np\n",
    "import matplotlib.pyplot as plt\n",
    "\n",
    "import keras.backend as K\n",
    "\n",
    "sess = tf.get_default_session()\n",
    "K.set_session(sess)"
   ]
  },
  {
   "cell_type": "markdown",
   "metadata": {},
   "source": [
    "The last two lines are important because they tell Keras to use a Tensorflow session that we also have a reference to. This way, we can use Tensorflow and Keras interchangeably and they all work in the same session."
   ]
  },
  {
   "cell_type": "markdown",
   "metadata": {
    "nbpresent": {
     "id": "2c7668cf-a67a-4b60-944b-bf4779018b09"
    }
   },
   "source": [
    "#### Premise\n",
    "\n",
    "It's important to remember that neural networks are essentially function approximators; i.e., they learn what a function is given a training set and labels. For example, a network can learn the function that maps images of handwritten digits to labels telling you what those digits are. We first define an architecture and then, using backpropagation along with training data, learn that particular function.\n",
    "\n",
    "In this session, just to get a feel for Keras, we're going to approximate an extremely simple function: a line!\n",
    "\n",
    "In theory, if you can solve this trivial example, you just need to create bigger and better architectures and use different loss functions (according to the use case), along with activation functions in network layers and you'll be able to solve pretty much any problems that a neural network is a good fit for.\n",
    "\n",
    "#### A linear function\n",
    "\n",
    "We're going to define a line as a function that takes in 3 parameters: coefficients $a$ and $b$ and an $x$ coordinate. This function will then map inputs from the domain $X$ to outputs $Y$, thus creating $(X,Y)$ pairs (points) in the Cartesian plane in the following way (I'm just being really elaborate so there's no confusion):\n",
    "\n",
    "$$f(x) = ax + b$$\n",
    "\n",
    "Let's define a linear function that takes in 2 coefficients and returns the point that the function maps it to. "
   ]
  },
  {
   "cell_type": "code",
   "execution_count": 7,
   "metadata": {
    "code_folding": [],
    "collapsed": true,
    "nbpresent": {
     "id": "43258669-0be2-4de0-b06b-a9f31d4e9348"
    }
   },
   "outputs": [],
   "source": [
    "def f(a,b,x):\n",
    "    return a*x + b"
   ]
  },
  {
   "cell_type": "markdown",
   "metadata": {
    "nbpresent": {
     "id": "53415e4a-9a85-4130-88fb-9e6d670de1e3"
    }
   },
   "source": [
    "Next, we get our sample from the domain (which will serve as our inputs). In order to make things easy to visualize, I'm going to pull 1000 samples from the interval [-5,5]. The linspace function just creates 1000 (or whatever number you want) samples spaced linearly in an interval. This will serve as our training data, since our function maps these points to others."
   ]
  },
  {
   "cell_type": "code",
   "execution_count": 8,
   "metadata": {
    "collapsed": true,
    "nbpresent": {
     "id": "154b08f2-c2b1-44a2-85da-08532968eaad"
    }
   },
   "outputs": [],
   "source": [
    "X = np.linspace(-5,5,1000)\n",
    "X = X.reshape((1000,1)) # this line is just to make sure our dimensions play nice."
   ]
  },
  {
   "cell_type": "markdown",
   "metadata": {
    "nbpresent": {
     "id": "949d3bf9-59f7-49c2-843a-0723c064da80"
    }
   },
   "source": [
    "Now, we're going to get our Y's, but also add some random noise to make the example just a little more interesting.\n",
    "\n",
    "Our training labels, $Y$, are now defined by the equation $$Y = ax + b + \\epsilon$$ \n",
    "\n",
    "or, using the function $f(x)$,\n",
    "\n",
    "$$Y = f(x) + \\epsilon$$\n",
    "\n",
    "where $\\epsilon$ is random noise sampled from a Gaussian distribution."
   ]
  },
  {
   "cell_type": "code",
   "execution_count": 9,
   "metadata": {
    "collapsed": true,
    "nbpresent": {
     "id": "1527a9c4-6093-44a0-a4b8-dfe66a240c5f"
    }
   },
   "outputs": [],
   "source": [
    "Y = f(3,2,X) + np.random.randn(X.shape[0], X.shape[1])"
   ]
  },
  {
   "cell_type": "code",
   "execution_count": 10,
   "metadata": {
    "nbpresent": {
     "id": "91504c0a-0240-45e1-aad1-4faa11498f8e"
    }
   },
   "outputs": [
    {
     "data": {
      "image/png": "[encoded data removed]",
      "text/plain": [
       "<matplotlib.figure.Figure at 0x1819bb79e8>"
      ]
     },
     "metadata": {},
     "output_type": "display_data"
    }
   ],
   "source": [
    "plt.plot(X,Y, 'bo')\n",
    "plt.show()"
   ]
  },
  {
   "cell_type": "markdown",
   "metadata": {
    "nbpresent": {
     "id": "2fa9d7b6-de3e-4411-b4b6-934456fb4bbf"
    }
   },
   "source": [
    "We now have our input data (in the X vector), where we have 1000 training examples and 1000 training labels in the Y vector. Let's now construct a network that will approximate this. We are going to have 1 neuron with 1 input and 1 output. This neuron will have a weight matrix consisting of one element and a bias vector consisting of one element. As a refresher, we usually write this as:\n",
    "\n",
    "$$ y = Wx + b $$\n",
    "\n",
    "Look familiar?\n",
    "\n",
    "Also, since this is a regression problem (i.e, not a classification problem), we're not going to have an activation in the last layer (which, in this case, also happens to be the first layer)."
   ]
  },
  {
   "cell_type": "code",
   "execution_count": 12,
   "metadata": {
    "code_folding": [],
    "collapsed": true,
    "nbpresent": {
     "id": "3c70c916-0317-4d67-bef6-e54d8ec72b2f"
    }
   },
   "outputs": [],
   "source": [
    "model = Sequential([\n",
    "    Dense(1, input_shape=(1,))\n",
    "])"
   ]
  },
  {
   "cell_type": "markdown",
   "metadata": {},
   "source": [
    "We're also going to need a loss function; think of all of these things as parts of the network that are swappable based on the use case. For this, a good loss function could be anything that measures distance between points really well; the distance will be measured between the point that the network outputs and the actual label for that particular training sample.\n",
    "\n",
    "Any thoughts on what we could use?"
   ]
  },
  {
   "cell_type": "code",
   "execution_count": 13,
   "metadata": {
    "collapsed": true,
    "nbpresent": {
     "id": "a0ad9ab7-aa4b-4f6f-81e9-bb5262806ff4"
    }
   },
   "outputs": [],
   "source": [
    "model.compile(loss='mse', optimizer='adam')"
   ]
  },
  {
   "cell_type": "markdown",
   "metadata": {},
   "source": [
    "We now have to fit our model to our data."
   ]
  },
  {
   "cell_type": "code",
   "execution_count": 15,
   "metadata": {},
   "outputs": [
    {
     "name": "stdout",
     "output_type": "stream",
     "text": [
      "Epoch 1/200\n",
      "1000/1000 [==============================] - 0s 27us/step - loss: 1.0673\n",
      "Epoch 2/200\n",
      "1000/1000 [==============================] - 0s 24us/step - loss: 1.0666\n",
      "Epoch 3/200\n",
      "1000/1000 [==============================] - 0s 23us/step - loss: 1.0661\n",
      "Epoch 4/200\n",
      "1000/1000 [==============================] - 0s 24us/step - loss: 1.0653\n",
      "Epoch 5/200\n",
      "1000/1000 [==============================] - 0s 23us/step - loss: 1.0650\n",
      "Epoch 6/200\n",
      "1000/1000 [==============================] - 0s 24us/step - loss: 1.0645\n",
      "Epoch 7/200\n",
      "1000/1000 [==============================] - 0s 24us/step - loss: 1.0643\n",
      "Epoch 8/200\n",
      "1000/1000 [==============================] - 0s 24us/step - loss: 1.0641\n",
      "Epoch 9/200\n",
      "1000/1000 [==============================] - 0s 24us/step - loss: 1.0638\n",
      "Epoch 10/200\n",
      "1000/1000 [==============================] - 0s 23us/step - loss: 1.0636\n",
      "Epoch 11/200\n",
      "1000/1000 [==============================] - 0s 24us/step - loss: 1.0635\n",
      "Epoch 12/200\n",
      "1000/1000 [==============================] - 0s 24us/step - loss: 1.0633\n",
      "Epoch 13/200\n",
      "1000/1000 [==============================] - 0s 26us/step - loss: 1.0632\n",
      "Epoch 14/200\n",
      "1000/1000 [==============================] - 0s 24us/step - loss: 1.0633\n",
      "Epoch 15/200\n",
      "1000/1000 [==============================] - 0s 23us/step - loss: 1.0631\n",
      "Epoch 16/200\n",
      "1000/1000 [==============================] - 0s 22us/step - loss: 1.0630\n",
      "Epoch 17/200\n",
      "1000/1000 [==============================] - 0s 23us/step - loss: 1.0629\n",
      "Epoch 18/200\n",
      "1000/1000 [==============================] - 0s 23us/step - loss: 1.0628\n",
      "Epoch 19/200\n",
      "1000/1000 [==============================] - 0s 24us/step - loss: 1.0626\n",
      "Epoch 20/200\n",
      "1000/1000 [==============================] - 0s 25us/step - loss: 1.0626\n",
      "Epoch 21/200\n",
      "1000/1000 [==============================] - 0s 24us/step - loss: 1.0626\n",
      "Epoch 22/200\n",
      "1000/1000 [==============================] - 0s 25us/step - loss: 1.0625\n",
      "Epoch 23/200\n",
      "1000/1000 [==============================] - 0s 24us/step - loss: 1.0627\n",
      "Epoch 24/200\n",
      "1000/1000 [==============================] - 0s 24us/step - loss: 1.0625\n",
      "Epoch 25/200\n",
      "1000/1000 [==============================] - 0s 24us/step - loss: 1.0625\n",
      "Epoch 26/200\n",
      "1000/1000 [==============================] - 0s 24us/step - loss: 1.0623\n",
      "Epoch 27/200\n",
      "1000/1000 [==============================] - 0s 24us/step - loss: 1.0626\n",
      "Epoch 28/200\n",
      "1000/1000 [==============================] - 0s 25us/step - loss: 1.0624\n",
      "Epoch 29/200\n",
      "1000/1000 [==============================] - 0s 23us/step - loss: 1.0624\n",
      "Epoch 30/200\n",
      "1000/1000 [==============================] - 0s 24us/step - loss: 1.0624\n",
      "Epoch 31/200\n",
      "1000/1000 [==============================] - 0s 27us/step - loss: 1.0623\n",
      "Epoch 32/200\n",
      "1000/1000 [==============================] - 0s 25us/step - loss: 1.0624\n",
      "Epoch 33/200\n",
      "1000/1000 [==============================] - 0s 25us/step - loss: 1.0624\n",
      "Epoch 34/200\n",
      "1000/1000 [==============================] - 0s 24us/step - loss: 1.0623\n",
      "Epoch 35/200\n",
      "1000/1000 [==============================] - 0s 24us/step - loss: 1.0623\n",
      "Epoch 36/200\n",
      "1000/1000 [==============================] - 0s 25us/step - loss: 1.0626\n",
      "Epoch 37/200\n",
      "1000/1000 [==============================] - 0s 24us/step - loss: 1.0623\n",
      "Epoch 38/200\n",
      "1000/1000 [==============================] - 0s 25us/step - loss: 1.0624\n",
      "Epoch 39/200\n",
      "1000/1000 [==============================] - 0s 24us/step - loss: 1.0624\n",
      "Epoch 40/200\n",
      "1000/1000 [==============================] - 0s 23us/step - loss: 1.0623\n",
      "Epoch 41/200\n",
      "1000/1000 [==============================] - 0s 24us/step - loss: 1.0624\n",
      "Epoch 42/200\n",
      "1000/1000 [==============================] - 0s 24us/step - loss: 1.0623\n",
      "Epoch 43/200\n",
      "1000/1000 [==============================] - 0s 25us/step - loss: 1.0626\n",
      "Epoch 44/200\n",
      "1000/1000 [==============================] - 0s 24us/step - loss: 1.0623\n",
      "Epoch 45/200\n",
      "1000/1000 [==============================] - 0s 23us/step - loss: 1.0624\n",
      "Epoch 46/200\n",
      "1000/1000 [==============================] - 0s 23us/step - loss: 1.0624\n",
      "Epoch 47/200\n",
      "1000/1000 [==============================] - 0s 23us/step - loss: 1.0623\n",
      "Epoch 48/200\n",
      "1000/1000 [==============================] - 0s 23us/step - loss: 1.0626\n",
      "Epoch 49/200\n",
      "1000/1000 [==============================] - 0s 25us/step - loss: 1.0624\n",
      "Epoch 50/200\n",
      "1000/1000 [==============================] - 0s 24us/step - loss: 1.0624\n",
      "Epoch 51/200\n",
      "1000/1000 [==============================] - 0s 26us/step - loss: 1.0623\n",
      "Epoch 52/200\n",
      "1000/1000 [==============================] - 0s 24us/step - loss: 1.0625\n",
      "Epoch 53/200\n",
      "1000/1000 [==============================] - 0s 25us/step - loss: 1.0623\n",
      "Epoch 54/200\n",
      "1000/1000 [==============================] - 0s 24us/step - loss: 1.0623\n",
      "Epoch 55/200\n",
      "1000/1000 [==============================] - 0s 25us/step - loss: 1.0623\n",
      "Epoch 56/200\n",
      "1000/1000 [==============================] - 0s 26us/step - loss: 1.0625\n",
      "Epoch 57/200\n",
      "1000/1000 [==============================] - 0s 25us/step - loss: 1.0625\n",
      "Epoch 58/200\n",
      "1000/1000 [==============================] - 0s 26us/step - loss: 1.0625\n",
      "Epoch 59/200\n",
      "1000/1000 [==============================] - 0s 24us/step - loss: 1.0624\n",
      "Epoch 60/200\n",
      "1000/1000 [==============================] - 0s 23us/step - loss: 1.0623\n",
      "Epoch 61/200\n",
      "1000/1000 [==============================] - 0s 25us/step - loss: 1.0624\n",
      "Epoch 62/200\n",
      "1000/1000 [==============================] - 0s 23us/step - loss: 1.0624\n",
      "Epoch 63/200\n",
      "1000/1000 [==============================] - 0s 24us/step - loss: 1.0624\n",
      "Epoch 64/200\n",
      "1000/1000 [==============================] - 0s 24us/step - loss: 1.0624\n",
      "Epoch 65/200\n",
      "1000/1000 [==============================] - 0s 24us/step - loss: 1.0624\n",
      "Epoch 66/200\n",
      "1000/1000 [==============================] - 0s 25us/step - loss: 1.0623\n",
      "Epoch 67/200\n",
      "1000/1000 [==============================] - 0s 24us/step - loss: 1.0624\n",
      "Epoch 68/200\n",
      "1000/1000 [==============================] - 0s 25us/step - loss: 1.0623\n",
      "Epoch 69/200\n",
      "1000/1000 [==============================] - 0s 25us/step - loss: 1.0623\n",
      "Epoch 70/200\n",
      "1000/1000 [==============================] - 0s 26us/step - loss: 1.0624\n",
      "Epoch 71/200\n",
      "1000/1000 [==============================] - 0s 23us/step - loss: 1.0623\n",
      "Epoch 72/200\n",
      "1000/1000 [==============================] - 0s 25us/step - loss: 1.0624\n",
      "Epoch 73/200\n",
      "1000/1000 [==============================] - 0s 23us/step - loss: 1.0623\n",
      "Epoch 74/200\n",
      "1000/1000 [==============================] - 0s 26us/step - loss: 1.0624\n",
      "Epoch 75/200\n",
      "1000/1000 [==============================] - 0s 25us/step - loss: 1.0624\n",
      "Epoch 76/200\n",
      "1000/1000 [==============================] - 0s 24us/step - loss: 1.0623\n",
      "Epoch 77/200\n",
      "1000/1000 [==============================] - 0s 25us/step - loss: 1.0625\n",
      "Epoch 78/200\n",
      "1000/1000 [==============================] - 0s 24us/step - loss: 1.0624\n",
      "Epoch 79/200\n",
      "1000/1000 [==============================] - 0s 25us/step - loss: 1.0624\n",
      "Epoch 80/200\n",
      "1000/1000 [==============================] - 0s 24us/step - loss: 1.0625\n",
      "Epoch 81/200\n",
      "1000/1000 [==============================] - 0s 25us/step - loss: 1.0625\n",
      "Epoch 82/200\n",
      "1000/1000 [==============================] - 0s 25us/step - loss: 1.0624\n",
      "Epoch 83/200\n",
      "1000/1000 [==============================] - 0s 24us/step - loss: 1.0624\n",
      "Epoch 84/200\n",
      "1000/1000 [==============================] - 0s 25us/step - loss: 1.0631\n",
      "Epoch 85/200\n",
      "1000/1000 [==============================] - 0s 25us/step - loss: 1.0628\n",
      "Epoch 86/200\n",
      "1000/1000 [==============================] - 0s 24us/step - loss: 1.0624\n",
      "Epoch 87/200\n",
      "1000/1000 [==============================] - 0s 25us/step - loss: 1.0624\n",
      "Epoch 88/200\n",
      "1000/1000 [==============================] - 0s 25us/step - loss: 1.0627\n",
      "Epoch 89/200\n",
      "1000/1000 [==============================] - 0s 25us/step - loss: 1.0624\n",
      "Epoch 90/200\n",
      "1000/1000 [==============================] - 0s 26us/step - loss: 1.0625\n",
      "Epoch 91/200\n",
      "1000/1000 [==============================] - 0s 24us/step - loss: 1.0623\n",
      "Epoch 92/200\n",
      "1000/1000 [==============================] - 0s 24us/step - loss: 1.0624\n",
      "Epoch 93/200\n",
      "1000/1000 [==============================] - 0s 24us/step - loss: 1.0625\n",
      "Epoch 94/200\n",
      "1000/1000 [==============================] - 0s 25us/step - loss: 1.0625\n",
      "Epoch 95/200\n",
      "1000/1000 [==============================] - 0s 24us/step - loss: 1.0625\n",
      "Epoch 96/200\n"
     ]
    },
    {
     "name": "stdout",
     "output_type": "stream",
     "text": [
      "1000/1000 [==============================] - 0s 25us/step - loss: 1.0625\n",
      "Epoch 97/200\n",
      "1000/1000 [==============================] - 0s 25us/step - loss: 1.0624\n",
      "Epoch 98/200\n",
      "1000/1000 [==============================] - 0s 24us/step - loss: 1.0624\n",
      "Epoch 99/200\n",
      "1000/1000 [==============================] - 0s 24us/step - loss: 1.0626\n",
      "Epoch 100/200\n",
      "1000/1000 [==============================] - 0s 24us/step - loss: 1.0624\n",
      "Epoch 101/200\n",
      "1000/1000 [==============================] - 0s 24us/step - loss: 1.0628\n",
      "Epoch 102/200\n",
      "1000/1000 [==============================] - 0s 23us/step - loss: 1.0625\n",
      "Epoch 103/200\n",
      "1000/1000 [==============================] - 0s 24us/step - loss: 1.0623\n",
      "Epoch 104/200\n",
      "1000/1000 [==============================] - 0s 24us/step - loss: 1.0627\n",
      "Epoch 105/200\n",
      "1000/1000 [==============================] - 0s 24us/step - loss: 1.0625\n",
      "Epoch 106/200\n",
      "1000/1000 [==============================] - 0s 23us/step - loss: 1.0627\n",
      "Epoch 107/200\n",
      "1000/1000 [==============================] - 0s 23us/step - loss: 1.0625\n",
      "Epoch 108/200\n",
      "1000/1000 [==============================] - 0s 24us/step - loss: 1.0626\n",
      "Epoch 109/200\n",
      "1000/1000 [==============================] - 0s 23us/step - loss: 1.0624\n",
      "Epoch 110/200\n",
      "1000/1000 [==============================] - 0s 24us/step - loss: 1.0627\n",
      "Epoch 111/200\n",
      "1000/1000 [==============================] - 0s 23us/step - loss: 1.0625\n",
      "Epoch 112/200\n",
      "1000/1000 [==============================] - 0s 24us/step - loss: 1.0624\n",
      "Epoch 113/200\n",
      "1000/1000 [==============================] - 0s 22us/step - loss: 1.0625\n",
      "Epoch 114/200\n",
      "1000/1000 [==============================] - 0s 24us/step - loss: 1.0626\n",
      "Epoch 115/200\n",
      "1000/1000 [==============================] - 0s 24us/step - loss: 1.0625\n",
      "Epoch 116/200\n",
      "1000/1000 [==============================] - ETA: 0s - loss: 0.948 - 0s 23us/step - loss: 1.0626\n",
      "Epoch 117/200\n",
      "1000/1000 [==============================] - 0s 24us/step - loss: 1.0624\n",
      "Epoch 118/200\n",
      "1000/1000 [==============================] - 0s 24us/step - loss: 1.0624\n",
      "Epoch 119/200\n",
      "1000/1000 [==============================] - 0s 24us/step - loss: 1.0625\n",
      "Epoch 120/200\n",
      "1000/1000 [==============================] - 0s 24us/step - loss: 1.0628\n",
      "Epoch 121/200\n",
      "1000/1000 [==============================] - 0s 24us/step - loss: 1.0626\n",
      "Epoch 122/200\n",
      "1000/1000 [==============================] - 0s 24us/step - loss: 1.0625\n",
      "Epoch 123/200\n",
      "1000/1000 [==============================] - 0s 23us/step - loss: 1.0624\n",
      "Epoch 124/200\n",
      "1000/1000 [==============================] - 0s 24us/step - loss: 1.0625\n",
      "Epoch 125/200\n",
      "1000/1000 [==============================] - 0s 24us/step - loss: 1.0624\n",
      "Epoch 126/200\n",
      "1000/1000 [==============================] - 0s 25us/step - loss: 1.0629\n",
      "Epoch 127/200\n",
      "1000/1000 [==============================] - 0s 23us/step - loss: 1.0625\n",
      "Epoch 128/200\n",
      "1000/1000 [==============================] - 0s 24us/step - loss: 1.0625\n",
      "Epoch 129/200\n",
      "1000/1000 [==============================] - 0s 23us/step - loss: 1.0625\n",
      "Epoch 130/200\n",
      "1000/1000 [==============================] - 0s 24us/step - loss: 1.0630\n",
      "Epoch 131/200\n",
      "1000/1000 [==============================] - ETA: 0s - loss: 1.135 - 0s 23us/step - loss: 1.0625\n",
      "Epoch 132/200\n",
      "1000/1000 [==============================] - 0s 24us/step - loss: 1.0625\n",
      "Epoch 133/200\n",
      "1000/1000 [==============================] - 0s 23us/step - loss: 1.0624\n",
      "Epoch 134/200\n",
      "1000/1000 [==============================] - 0s 25us/step - loss: 1.0626\n",
      "Epoch 135/200\n",
      "1000/1000 [==============================] - 0s 24us/step - loss: 1.0623\n",
      "Epoch 136/200\n",
      "1000/1000 [==============================] - 0s 23us/step - loss: 1.0624\n",
      "Epoch 137/200\n",
      "1000/1000 [==============================] - 0s 25us/step - loss: 1.0628\n",
      "Epoch 138/200\n",
      "1000/1000 [==============================] - 0s 24us/step - loss: 1.0625\n",
      "Epoch 139/200\n",
      "1000/1000 [==============================] - 0s 24us/step - loss: 1.0630\n",
      "Epoch 140/200\n",
      "1000/1000 [==============================] - 0s 23us/step - loss: 1.0624\n",
      "Epoch 141/200\n",
      "1000/1000 [==============================] - 0s 25us/step - loss: 1.0630\n",
      "Epoch 142/200\n",
      "1000/1000 [==============================] - 0s 23us/step - loss: 1.0625\n",
      "Epoch 143/200\n",
      "1000/1000 [==============================] - 0s 25us/step - loss: 1.0626\n",
      "Epoch 144/200\n",
      "1000/1000 [==============================] - 0s 24us/step - loss: 1.0624\n",
      "Epoch 145/200\n",
      "1000/1000 [==============================] - 0s 24us/step - loss: 1.0625\n",
      "Epoch 146/200\n",
      "1000/1000 [==============================] - 0s 25us/step - loss: 1.0629\n",
      "Epoch 147/200\n",
      "1000/1000 [==============================] - 0s 23us/step - loss: 1.0630\n",
      "Epoch 148/200\n",
      "1000/1000 [==============================] - 0s 24us/step - loss: 1.0629\n",
      "Epoch 149/200\n",
      "1000/1000 [==============================] - 0s 26us/step - loss: 1.0625\n",
      "Epoch 150/200\n",
      "1000/1000 [==============================] - 0s 24us/step - loss: 1.0628\n",
      "Epoch 151/200\n",
      "1000/1000 [==============================] - 0s 23us/step - loss: 1.0626\n",
      "Epoch 152/200\n",
      "1000/1000 [==============================] - 0s 25us/step - loss: 1.0624\n",
      "Epoch 153/200\n",
      "1000/1000 [==============================] - 0s 23us/step - loss: 1.0625\n",
      "Epoch 154/200\n",
      "1000/1000 [==============================] - 0s 25us/step - loss: 1.0626\n",
      "Epoch 155/200\n",
      "1000/1000 [==============================] - 0s 24us/step - loss: 1.0625\n",
      "Epoch 156/200\n",
      "1000/1000 [==============================] - 0s 25us/step - loss: 1.0627\n",
      "Epoch 157/200\n",
      "1000/1000 [==============================] - 0s 24us/step - loss: 1.0628\n",
      "Epoch 158/200\n",
      "1000/1000 [==============================] - 0s 25us/step - loss: 1.0627\n",
      "Epoch 159/200\n",
      "1000/1000 [==============================] - 0s 23us/step - loss: 1.0625\n",
      "Epoch 160/200\n",
      "1000/1000 [==============================] - 0s 25us/step - loss: 1.0627\n",
      "Epoch 161/200\n",
      "1000/1000 [==============================] - 0s 23us/step - loss: 1.0633\n",
      "Epoch 162/200\n",
      "1000/1000 [==============================] - 0s 25us/step - loss: 1.0624\n",
      "Epoch 163/200\n",
      "1000/1000 [==============================] - 0s 24us/step - loss: 1.0625\n",
      "Epoch 164/200\n",
      "1000/1000 [==============================] - 0s 24us/step - loss: 1.0624\n",
      "Epoch 165/200\n",
      "1000/1000 [==============================] - 0s 25us/step - loss: 1.0629\n",
      "Epoch 166/200\n",
      "1000/1000 [==============================] - 0s 24us/step - loss: 1.0626\n",
      "Epoch 167/200\n",
      "1000/1000 [==============================] - 0s 24us/step - loss: 1.0625\n",
      "Epoch 168/200\n",
      "1000/1000 [==============================] - 0s 24us/step - loss: 1.0626\n",
      "Epoch 169/200\n",
      "1000/1000 [==============================] - 0s 25us/step - loss: 1.0624\n",
      "Epoch 170/200\n",
      "1000/1000 [==============================] - 0s 24us/step - loss: 1.0625\n",
      "Epoch 171/200\n",
      "1000/1000 [==============================] - 0s 24us/step - loss: 1.0625\n",
      "Epoch 172/200\n",
      "1000/1000 [==============================] - 0s 23us/step - loss: 1.0630\n",
      "Epoch 173/200\n",
      "1000/1000 [==============================] - 0s 25us/step - loss: 1.0633\n",
      "Epoch 174/200\n",
      "1000/1000 [==============================] - 0s 24us/step - loss: 1.0624\n",
      "Epoch 175/200\n",
      "1000/1000 [==============================] - 0s 25us/step - loss: 1.0632\n",
      "Epoch 176/200\n",
      "1000/1000 [==============================] - 0s 24us/step - loss: 1.0629\n",
      "Epoch 177/200\n",
      "1000/1000 [==============================] - 0s 23us/step - loss: 1.0625\n",
      "Epoch 178/200\n",
      "1000/1000 [==============================] - 0s 24us/step - loss: 1.0627\n",
      "Epoch 179/200\n",
      "1000/1000 [==============================] - 0s 25us/step - loss: 1.0626\n",
      "Epoch 180/200\n",
      "1000/1000 [==============================] - 0s 24us/step - loss: 1.0627\n",
      "Epoch 181/200\n",
      "1000/1000 [==============================] - 0s 25us/step - loss: 1.0630\n",
      "Epoch 182/200\n",
      "1000/1000 [==============================] - 0s 24us/step - loss: 1.0626\n",
      "Epoch 183/200\n",
      "1000/1000 [==============================] - 0s 25us/step - loss: 1.0626\n",
      "Epoch 184/200\n",
      "1000/1000 [==============================] - 0s 24us/step - loss: 1.0626\n",
      "Epoch 185/200\n",
      "1000/1000 [==============================] - 0s 25us/step - loss: 1.0628\n",
      "Epoch 186/200\n",
      "1000/1000 [==============================] - 0s 24us/step - loss: 1.0625\n",
      "Epoch 187/200\n",
      "1000/1000 [==============================] - 0s 24us/step - loss: 1.0626\n",
      "Epoch 188/200\n",
      "1000/1000 [==============================] - 0s 25us/step - loss: 1.0627\n",
      "Epoch 189/200\n"
     ]
    },
    {
     "name": "stdout",
     "output_type": "stream",
     "text": [
      "1000/1000 [==============================] - 0s 26us/step - loss: 1.0629\n",
      "Epoch 190/200\n",
      "1000/1000 [==============================] - 0s 25us/step - loss: 1.0626\n",
      "Epoch 191/200\n",
      "1000/1000 [==============================] - 0s 24us/step - loss: 1.0625\n",
      "Epoch 192/200\n",
      "1000/1000 [==============================] - 0s 25us/step - loss: 1.0626\n",
      "Epoch 193/200\n",
      "1000/1000 [==============================] - 0s 24us/step - loss: 1.0630\n",
      "Epoch 194/200\n",
      "1000/1000 [==============================] - 0s 23us/step - loss: 1.0628\n",
      "Epoch 195/200\n",
      "1000/1000 [==============================] - 0s 23us/step - loss: 1.0625\n",
      "Epoch 196/200\n",
      "1000/1000 [==============================] - 0s 23us/step - loss: 1.0626\n",
      "Epoch 197/200\n",
      "1000/1000 [==============================] - ETA: 0s - loss: 1.007 - 0s 23us/step - loss: 1.0624\n",
      "Epoch 198/200\n",
      "1000/1000 [==============================] - 0s 24us/step - loss: 1.0624\n",
      "Epoch 199/200\n",
      "1000/1000 [==============================] - 0s 25us/step - loss: 1.0629\n",
      "Epoch 200/200\n",
      "1000/1000 [==============================] - 0s 24us/step - loss: 1.0625\n"
     ]
    },
    {
     "data": {
      "text/plain": [
       "<keras.callbacks.History at 0x1819d72630>"
      ]
     },
     "execution_count": 15,
     "metadata": {},
     "output_type": "execute_result"
    }
   ],
   "source": [
    "model.fit(X, Y, epochs=200)"
   ]
  },
  {
   "cell_type": "markdown",
   "metadata": {},
   "source": [
    "Now, we have to see how well our model learned the linear function we were trying to approximate. Since we've picked an architecture that can pretty much only learn a linear function, the results will be a straight line. We're going to evaluate our model on the training set (which is a terrible practice, but shows us how well our line fitting went) and plot those on the original graph to get a sense of how well we did."
   ]
  },
  {
   "cell_type": "code",
   "execution_count": 17,
   "metadata": {},
   "outputs": [
    {
     "data": {
      "image/png": "[encoded data removed]",
      "text/plain": [
       "<matplotlib.figure.Figure at 0x1819cb5a20>"
      ]
     },
     "metadata": {},
     "output_type": "display_data"
    }
   ],
   "source": [
    "Y_predict = model.predict(X)\n",
    "\n",
    "plt.plot(X,Y, 'bo',X,Y_predict,'r-')\n",
    "plt.show()"
   ]
  },
  {
   "cell_type": "markdown",
   "metadata": {},
   "source": [
    "Just for kicks, let's also check our weights."
   ]
  },
  {
   "cell_type": "code",
   "execution_count": 16,
   "metadata": {},
   "outputs": [
    {
     "data": {
      "text/plain": [
       "[array([[ 2.99690032]], dtype=float32), array([ 1.98177671], dtype=float32)]"
      ]
     },
     "execution_count": 16,
     "metadata": {},
     "output_type": "execute_result"
    }
   ],
   "source": [
    "model.get_weights()"
   ]
  },
  {
   "cell_type": "markdown",
   "metadata": {},
   "source": [
    "So the weights we got are really close to the coefficients we used for the linear function. We could probably get closer, but that would require more training and as it stands, since we introduced random noise, it might never get to the exact values."
   ]
  }
 ],
 "metadata": {
  "kernelspec": {
   "display_name": "Python [default]",
   "language": "python",
   "name": "python3"
  },
  "language_info": {
   "codemirror_mode": {
    "name": "ipython",
    "version": 3
   },
   "file_extension": ".py",
   "mimetype": "text/x-python",
   "name": "python",
   "nbconvert_exporter": "python",
   "pygments_lexer": "ipython3",
   "version": "3.6.3"
  }
 },
 "nbformat": 4,
 "nbformat_minor": 2
}
